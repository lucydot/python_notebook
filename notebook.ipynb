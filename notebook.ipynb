{
 "cells": [
  {
   "cell_type": "markdown",
   "metadata": {},
   "source": [
    "# Energy Materials: Design, Discovery and Data\n",
    "\n",
    "## 4. Python for Science and Engineering"
   ]
  },
  {
   "cell_type": "markdown",
   "metadata": {},
   "source": [
    "## Advance preparation\n",
    "\n",
    "Modules one and two from [Intro to Python for Data Science](https://www.datacamp.com/courses/intro-to-python-for-data-science)"
   ]
  },
  {
   "cell_type": "markdown",
   "metadata": {},
   "source": [
    "## Lecture Slides \n",
    "On [Speakerdeck](https://speakerdeck.com/lucydot)"
   ]
  },
  {
   "cell_type": "code",
   "execution_count": 1,
   "metadata": {
    "collapsed": false
   },
   "outputs": [
    {
     "data": {
      "text/html": [
       "<script async class=\"speakerdeck-embed\" data-id=\"e051ec84f9764a4c89ff28c6f3658a81\" data-ratio=\"1.33333333333333\" src=\"//speakerdeck.com/assets/embed.js\"></script>"
      ],
      "text/plain": [
       "<IPython.core.display.HTML object>"
      ]
     },
     "metadata": {},
     "output_type": "display_data"
    }
   ],
   "source": [
    "%%HTML \n",
    "<script async class=\"speakerdeck-embed\" data-id=\"e051ec84f9764a4c89ff28c6f3658a81\" data-ratio=\"1.33333333333333\" src=\"//speakerdeck.com/assets/embed.js\"></script>"
   ]
  },
  {
   "cell_type": "markdown",
   "metadata": {},
   "source": [
    "## Acknowledgment\n",
    "A lot of this notebook has been adapted from [Ben Morgan's Tutorials](https://github.com/bjmorgan/jupyter_cc_1) \n",
    "\n",
    "The Control Flow section has been adapted from the GitBook [A Byte of Python](https://www.gitbook.com/book/swaroopch/byte-of-python/details)"
   ]
  },
  {
   "cell_type": "markdown",
   "metadata": {},
   "source": [
    "## Contents\n",
    "\n",
    "- [Mathematical functions and modules](#functions_and_modules)\n",
    "- [Variables](#variables) \n",
    "- [Data types](#data_types)\n",
    " - [numbers](#numbers)\n",
    " - [strings](#strings)\n",
    " - [lists](#lists)\n",
    " - [dictionaries](#dictionaries)\n",
    "- [Defining functions](#functions)\n",
    "- [Control flow](#control_flow)\n",
    " - [The `if` statement](#if_statement)\n",
    " - [The `for` statement](#for_statement)\n",
    "- [Common mistakes](#common_mistakes)\n",
    "- [Reading in data with Pandas](#pandas)\n",
    "- [Plotting data with Matplotlib](#matplotlib)\n",
    "- [Fitting data with Numpy](#numpy)\n",
    "- [Putting it all together](#together)\n",
    "- [Extension task](#extension)\n",
    "- [Resources](#resources)"
   ]
  },
  {
   "cell_type": "markdown",
   "metadata": {},
   "source": [
    "## Mathematical functions and modules<a id=\"functions_and_modules\"></a>\n",
    "\n",
    "In programming a **function** converts an input into an output. For example, if we want to calculate a square root, we can use the `sqrt()` function.\n",
    "\n",
    ">```python\n",
    "sqrt(4)\n",
    "```"
   ]
  },
  {
   "cell_type": "code",
   "execution_count": null,
   "metadata": {
    "collapsed": false
   },
   "outputs": [],
   "source": []
  },
  {
   "cell_type": "markdown",
   "metadata": {},
   "source": [
    "This has given us an error:  \n",
    "\n",
    "<span style=\"font-family:monospace\"><span style=\"color:#890004\">NameError</span><span style=\"color:#046308\">: name 'sqrt' is not defined</style></span>. \n",
    "\n",
    "Python has a *lot* of built in commands (functions). Commands (such as mathematical functions) are collected in **modules** that we can load, to make these available in our notebook.\n",
    "\n",
    "`sqrt` lives in the `math` module. We can load it like this:\n",
    "\n",
    ">```python\n",
    "from math import sqrt\n",
    "sqrt(4)\n",
    "```"
   ]
  },
  {
   "cell_type": "code",
   "execution_count": null,
   "metadata": {
    "collapsed": true
   },
   "outputs": [],
   "source": []
  },
  {
   "cell_type": "markdown",
   "metadata": {},
   "source": [
    "Or we can import the entire math module:\n",
    "\n",
    ">```python\n",
    "import math\n",
    "math.sqrt(4)\n",
    "```"
   ]
  },
  {
   "cell_type": "code",
   "execution_count": null,
   "metadata": {
    "collapsed": true
   },
   "outputs": [],
   "source": []
  },
  {
   "cell_type": "markdown",
   "metadata": {},
   "source": [
    "You can think of `math.sqrt()` as instructing the computer to &ldquo;use the `sqrt()` function provided inside the  `math` module&rdquo;.\n",
    "\n",
    "The `math` module contains a [large set of common mathematical functions](https://docs.python.org/2/library/math.html), and the constants $\\pi$ and $\\mathrm{e}$ (natural logarithm).\n",
    "\n",
    ">```python\n",
    "from math import pi, sin, e, log\n",
    "```\n"
   ]
  },
  {
   "cell_type": "code",
   "execution_count": null,
   "metadata": {
    "collapsed": true
   },
   "outputs": [],
   "source": []
  },
  {
   "cell_type": "markdown",
   "metadata": {},
   "source": [
    "\n",
    "<div class=\"alert alert-success\">\n",
    "Calculate the area of a circle with a radius of 2cm. Add a comment to your code (#) stating which unit your answer is in. <br/>\n",
    "Note: the power operator is a double asterix. E.g. 3 to the power 4 is written 3**4\n",
    "</div>"
   ]
  },
  {
   "cell_type": "code",
   "execution_count": null,
   "metadata": {
    "collapsed": true
   },
   "outputs": [],
   "source": []
  },
  {
   "cell_type": "markdown",
   "metadata": {},
   "source": [
    "<div class=\"alert alert-success\">\n",
    "Calculate the $sin(2\\pi)$. Discuss with the person next to you why it does not give you the answer you expect.\n",
    "</div>"
   ]
  },
  {
   "cell_type": "code",
   "execution_count": null,
   "metadata": {
    "collapsed": true
   },
   "outputs": [],
   "source": []
  },
  {
   "cell_type": "markdown",
   "metadata": {},
   "source": [
    "##  Variables<a id=\"variables\"></a>\n",
    "\n",
    "<span style=\"font-family:monospace\"><span style=\"color:#046308\">print</span>()</span> is another function, like `math.sqrt()` or `math.log()`. Instead of performing a mathematical calculation, <span style=\"font-family:monospace\"><span style=\"color:#046308\">print</span>()</span> just prints whatever is inside the brackets. \n",
    "\n",
    "<span style=\"font-family:monospace\"><span style=\"color:#046308\">print</span>()</span> can print more than one variable if these are separated by commas:\n",
    "\n",
    ">```python\n",
    "print(\"72/4 =\",72/4)\n",
    "```"
   ]
  },
  {
   "cell_type": "code",
   "execution_count": null,
   "metadata": {
    "collapsed": false
   },
   "outputs": [],
   "source": []
  },
  {
   "cell_type": "markdown",
   "metadata": {},
   "source": [
    "Storing results in computer memory is called **assigning** **variables**. To access the value stored in the variable, we can use the variable name to refer to the original result.\n",
    "\n",
    ">```python\n",
    "# calculate 2 + 3 and store the result in the variable `my_result`\n",
    "my_result = 2 + 3\n",
    "```"
   ]
  },
  {
   "cell_type": "code",
   "execution_count": null,
   "metadata": {
    "collapsed": true
   },
   "outputs": [],
   "source": []
  },
  {
   "cell_type": "markdown",
   "metadata": {},
   "source": [
    "A variable `my_result` is created, and the value returned by the calculation is stored here.  \n",
    "\n",
    "Variable names can be nearly anything cannot begin with a number (but can contain numbers), and they cannot contain spaces. Underscores are commonly used instead of spaces to keep the code readable.\n",
    "\n",
    "To check the value stored in a variable we can just type the variable name (which returns the stored value).\n",
    "\n",
    ">```python\n",
    "my_result\n",
    "```"
   ]
  },
  {
   "cell_type": "code",
   "execution_count": null,
   "metadata": {
    "collapsed": true
   },
   "outputs": [],
   "source": []
  },
  {
   "cell_type": "markdown",
   "metadata": {},
   "source": [
    "Or we can use use `print()`.\n",
    "\n",
    ">```python\n",
    "print( my_result )\n",
    "```"
   ]
  },
  {
   "cell_type": "code",
   "execution_count": null,
   "metadata": {
    "collapsed": true
   },
   "outputs": [],
   "source": []
  },
  {
   "cell_type": "markdown",
   "metadata": {},
   "source": [
    "Variables can be used to store raw numbers, and can then be used for calculations.\n",
    "\n",
    ">```python\n",
    "the_number_six = 6\n",
    "my_result + the_number_six\n",
    "```"
   ]
  },
  {
   "cell_type": "code",
   "execution_count": null,
   "metadata": {
    "collapsed": true
   },
   "outputs": [],
   "source": []
  },
  {
   "cell_type": "markdown",
   "metadata": {},
   "source": [
    "Any code that uses variables may itself return a further result, which can be assigned to a new variable, and used later (and so on).\n",
    "\n",
    ">```python\n",
    "yet_another_variable = my_result + the_number_six\n",
    "print (yet_another_variable) \n",
    "```"
   ]
  },
  {
   "cell_type": "code",
   "execution_count": null,
   "metadata": {
    "collapsed": false
   },
   "outputs": [],
   "source": []
  },
  {
   "cell_type": "markdown",
   "metadata": {
    "collapsed": true
   },
   "source": [
    "If you refer to a variable that has not yet been created you will get an error.\n",
    "\n",
    ">```python\n",
    "favourite_fruit = bananas # this will return an error\n",
    "```"
   ]
  },
  {
   "cell_type": "code",
   "execution_count": null,
   "metadata": {
    "collapsed": true
   },
   "outputs": [],
   "source": []
  },
  {
   "cell_type": "markdown",
   "metadata": {},
   "source": [
    "You can add an integer to a variable using shorthand notation:\n",
    "\n",
    ">```python\n",
    "x = 1\n",
    "x += 4\n",
    "print (x)\n",
    "```"
   ]
  },
  {
   "cell_type": "code",
   "execution_count": null,
   "metadata": {
    "collapsed": false
   },
   "outputs": [],
   "source": []
  },
  {
   "cell_type": "markdown",
   "metadata": {
    "collapsed": true
   },
   "source": [
    "<div class=\"alert alert-success\">\n",
    "Create three variables, $x$, $y$, and $z$, and use them to store the numbers $5,6,7$.  \n",
    "\n",
    "Using these variables, calculate:  \n",
    "$5+6+7$, and  \n",
    "$(5+6)\\times7$.\n",
    "</div>"
   ]
  },
  {
   "cell_type": "code",
   "execution_count": null,
   "metadata": {
    "collapsed": true
   },
   "outputs": [],
   "source": []
  },
  {
   "cell_type": "markdown",
   "metadata": {},
   "source": [
    "## Data types<a id=\"data_types\"></a>\n",
    "\n",
    "### Numbers: *int* and *float*<a id=\"numbers\"></a>\n",
    "\n",
    "- Whole numbers, without decimal points are integers or &ldquo;ints&rdquo;, e.g. <span style=\"color:#108714; font-family:monospace\">1</span>, <span style=\"color:#108714; font-family:monospace\">6</span>, <span style=\"color:#108714; font-family:monospace\">2331</span>.  \n",
    "\n",
    "- Numbers with decimal points are floating point numbers or &ldquo;floats&rdquo;, e.g. <span style=\"color:#108714; font-family:monospace\">1.0</span>, <span style=\"color:#108714; font-family:monospace\">232.141</span>.\n",
    "\n",
    "Note that <span style=\"color:#108714; font-family:monospace\">1</span> and <span style=\"color:#108714; font-family:monospace\">1.0</span> are different:\n",
    "\n",
    ">```python\n",
    "type(1) # `type()` returns the data-type of something\n",
    "```\n",
    "\n",
    "\n",
    "\n"
   ]
  },
  {
   "cell_type": "code",
   "execution_count": null,
   "metadata": {
    "collapsed": true
   },
   "outputs": [],
   "source": []
  },
  {
   "cell_type": "markdown",
   "metadata": {},
   "source": [
    ">```python\n",
    "type(1.0)\n",
    "```"
   ]
  },
  {
   "cell_type": "code",
   "execution_count": null,
   "metadata": {
    "collapsed": true
   },
   "outputs": [],
   "source": []
  },
  {
   "cell_type": "markdown",
   "metadata": {},
   "source": [
    ">```python\n",
    "1 is 1.0 # `is` tests whether two things are the same\n",
    "```"
   ]
  },
  {
   "cell_type": "code",
   "execution_count": null,
   "metadata": {
    "collapsed": true
   },
   "outputs": [],
   "source": []
  },
  {
   "cell_type": "markdown",
   "metadata": {},
   "source": [
    "Even though they both represent the number one, and have equal values (yes, this can be confusing), `1` and `1.0` are not **the same** because the first is an integer and the second is a float.  \n",
    "\n",
    "To reassure ourselves slightly, we can test whether two things are equal using `==`\n",
    "\n",
    ">```python\n",
    "1 == 1.0\n",
    "```"
   ]
  },
  {
   "cell_type": "code",
   "execution_count": null,
   "metadata": {
    "collapsed": true
   },
   "outputs": [],
   "source": []
  },
  {
   "cell_type": "markdown",
   "metadata": {},
   "source": [
    "Very large and very small numbers can be written using **scientific notation**.\n",
    "\n",
    "<span style=\"color:#108714; font-family:monospace\">1.3e5</span> uses scientific notation and is shorthand for <span style=\"color:#108714; font-family:monospace\">130000.0</span>.\n",
    "\n",
    "<span style=\"color:#108714; font-family:monospace\">2.41e-7</span> uses scientific notation and is shorthand for <span style=\"color:#108714; font-family:monospace\">0.000000241</span>.\n",
    "\n",
    " <br/>\n",
    "<div class=\"alert alert-success\">\n",
    "Add 0.00054 and 4700000 using scientific notation\n",
    "</div>"
   ]
  },
  {
   "cell_type": "code",
   "execution_count": null,
   "metadata": {
    "collapsed": false
   },
   "outputs": [],
   "source": []
  },
  {
   "cell_type": "markdown",
   "metadata": {},
   "source": [
    "### Strings<a id=\"strings\"></a>\n",
    "\n",
    "Strings are any sequence of text. We indicate that a sequence of text is a string, and not a Python command, by enclosing it in single or double quotes. Being able to use either quote type allows strings that themselves contain quotes.\n",
    "\n",
    ">```python\n",
    "'this is a string using single quotes'\n",
    "```"
   ]
  },
  {
   "cell_type": "code",
   "execution_count": null,
   "metadata": {
    "collapsed": false
   },
   "outputs": [],
   "source": []
  },
  {
   "cell_type": "markdown",
   "metadata": {},
   "source": [
    ">```python\n",
    "\"this is a string using double quotes\"\n",
    "```"
   ]
  },
  {
   "cell_type": "code",
   "execution_count": null,
   "metadata": {
    "collapsed": false
   },
   "outputs": [],
   "source": []
  },
  {
   "cell_type": "markdown",
   "metadata": {},
   "source": [
    "We can turn an integer into a string using the str() function:\n",
    "\n",
    ">```python\n",
    "x = 4\n",
    "print (type(x))\n",
    "y = str(x)\n",
    "print (type(y))\n",
    "```"
   ]
  },
  {
   "cell_type": "code",
   "execution_count": null,
   "metadata": {
    "collapsed": false
   },
   "outputs": [],
   "source": []
  },
  {
   "cell_type": "markdown",
   "metadata": {},
   "source": [
    "We can format strings so that they contain variables:\n",
    "\n",
    ">```python\n",
    "subject = \"materials science\"\n",
    "time = 100\n",
    "print (\"I have loved {0} for {1} years\".format(subject, time)) # The use of curly braces {} in a string is called string formatting\n",
    "```"
   ]
  },
  {
   "cell_type": "code",
   "execution_count": null,
   "metadata": {
    "collapsed": false
   },
   "outputs": [],
   "source": []
  },
  {
   "cell_type": "markdown",
   "metadata": {},
   "source": [
    "### Lists<a id=\"lists\"></a>\n",
    "\n",
    "Python also contains built-in data types for collections of things. For data analysis we often deal with sets of numbers. These can be collected in **lists**.\n",
    "\n",
    "A list is denoted by a series separated by commas, and enclosed in square brackets:\n",
    "\n",
    ">```python\n",
    "my_list = [ 1, 2, 3, 4 ]\n",
    "my_list\n",
    "```"
   ]
  },
  {
   "cell_type": "code",
   "execution_count": null,
   "metadata": {
    "collapsed": true
   },
   "outputs": [],
   "source": []
  },
  {
   "cell_type": "markdown",
   "metadata": {},
   "source": [
    "although lists can contain any set of Python objects:\n",
    "\n",
    ">```python\n",
    "my_other_list = [ 4, 1.5, 'peach' ]\n",
    "my_other_list\n",
    "```"
   ]
  },
  {
   "cell_type": "code",
   "execution_count": null,
   "metadata": {
    "collapsed": true
   },
   "outputs": [],
   "source": []
  },
  {
   "cell_type": "markdown",
   "metadata": {},
   "source": [
    "To refer to one element in a list, use the **index** of that element. Index numbering counts the number of jumps along the sequence, so starts at zero.\n",
    "\n",
    ">```python\n",
    "# 1st element (zero jumps along the sequence)\n",
    "print( my_other_list[0] )\n",
    "# 2nd element (one jump along the sequence)\n",
    "print( my_other_list[1] ) \n",
    "# 3rd element (two jumps along the sequence)\n",
    "print( my_other_list[2] ) \n",
    "```"
   ]
  },
  {
   "cell_type": "code",
   "execution_count": null,
   "metadata": {
    "collapsed": true
   },
   "outputs": [],
   "source": []
  },
  {
   "cell_type": "markdown",
   "metadata": {},
   "source": [
    "Using an index outside the range of elements in the list will produce an error. For example, `my_other_list` has three elements, but `my_other_list[3]` tries to return the *4th* element (which does not exist)\n",
    "\n",
    ">```python\n",
    "print( my_other_list[3] ) # this will return an error\n",
    "```"
   ]
  },
  {
   "cell_type": "code",
   "execution_count": null,
   "metadata": {
    "collapsed": true
   },
   "outputs": [],
   "source": []
  },
  {
   "cell_type": "code",
   "execution_count": 2,
   "metadata": {
    "collapsed": true
   },
   "outputs": [],
   "source": [
    "# run this cell to create the list `alphabet`\n",
    "alphabet = [ 'a', 'b', 'c', 'd', 'e', 'f', 'g', \n",
    "             'h', 'i', 'j', 'k', 'l', 'm', 'n', \n",
    "             'o', 'p', 'q', 'r', 's', 't', 'u',\n",
    "             'v', 'w', 'x', 'y', 'z' ]"
   ]
  },
  {
   "cell_type": "markdown",
   "metadata": {},
   "source": [
    ">```python\n",
    "alphabet[3:8]\n",
    "```\n",
    "\n",
    "→ start from three jumps, finish at eight jumps, i.e. elements 4 to 9."
   ]
  },
  {
   "cell_type": "code",
   "execution_count": null,
   "metadata": {
    "collapsed": false
   },
   "outputs": [],
   "source": []
  },
  {
   "cell_type": "markdown",
   "metadata": {},
   "source": [
    "Negative numbers count backwards from the end of the sequence.\n",
    "\n",
    ">```python\n",
    "alphabet[-8:-3]\n",
    "```\n",
    "\n",
    "→ 9th from the end up to 4th from the end."
   ]
  },
  {
   "cell_type": "code",
   "execution_count": null,
   "metadata": {
    "collapsed": false
   },
   "outputs": [],
   "source": []
  },
  {
   "cell_type": "markdown",
   "metadata": {},
   "source": [
    "And leaving out one of the numbers in the range will include all elements up to the start or end of the sequence.\n",
    "\n",
    ">```python\n",
    "alphabet[14:]\n",
    "```"
   ]
  },
  {
   "cell_type": "code",
   "execution_count": null,
   "metadata": {
    "collapsed": false
   },
   "outputs": [],
   "source": []
  },
  {
   "cell_type": "markdown",
   "metadata": {},
   "source": [
    ">```python\n",
    "alphabet[:14]\n",
    "```"
   ]
  },
  {
   "cell_type": "code",
   "execution_count": null,
   "metadata": {
    "collapsed": false
   },
   "outputs": [],
   "source": []
  },
  {
   "cell_type": "markdown",
   "metadata": {},
   "source": [
    "We can append items to a list using the `append` method\n",
    "\n",
    ">```python\n",
    "alphabet.append('end of alphabet')\n",
    "alphabet\n",
    "```"
   ]
  },
  {
   "cell_type": "code",
   "execution_count": null,
   "metadata": {
    "collapsed": false
   },
   "outputs": [],
   "source": []
  },
  {
   "cell_type": "markdown",
   "metadata": {},
   "source": [
    "We can create a list of integers using the `list()` and `range()` functions. \n",
    "\n",
    "`list(range(6))` will create a list of all integers up to, but not including, 6:\n",
    "\n",
    ">```python\n",
    "list(range(6))\n",
    "```\n"
   ]
  },
  {
   "cell_type": "code",
   "execution_count": null,
   "metadata": {
    "collapsed": false
   },
   "outputs": [],
   "source": []
  },
  {
   "cell_type": "markdown",
   "metadata": {},
   "source": [
    "`list(range(10,15))` will create a list of all integers from 10 and up to, but not including, 15:\n",
    "\n",
    "\n",
    ">```python\n",
    "list(range(10,15))\n",
    "```\n"
   ]
  },
  {
   "cell_type": "code",
   "execution_count": null,
   "metadata": {
    "collapsed": true
   },
   "outputs": [],
   "source": []
  },
  {
   "cell_type": "markdown",
   "metadata": {},
   "source": [
    "`range(10,20,2)` will create is list of integers in steps of 2 from 10 and up to, but not including, 20:\n",
    "\n",
    ">```python\n",
    "list(range(10,20,2))\n",
    "```\n"
   ]
  },
  {
   "cell_type": "code",
   "execution_count": null,
   "metadata": {
    "collapsed": false
   },
   "outputs": [],
   "source": []
  },
  {
   "cell_type": "markdown",
   "metadata": {},
   "source": [
    "<div class=\"alert alert-success\">\n",
    "Print the multiples of 3 from 12 to 90 using the <span style=\"font-family:monospace\"><span style=\"color:#046308\">range()</span></span> function\n",
    "</div>"
   ]
  },
  {
   "cell_type": "code",
   "execution_count": null,
   "metadata": {
    "collapsed": true
   },
   "outputs": [],
   "source": []
  },
  {
   "cell_type": "markdown",
   "metadata": {},
   "source": [
    "### Dictionaries<a id=\"dictionaries\"></a>\n",
    "\n",
    "A dictionary is a simple database for storing and organising data.\n",
    "\n",
    ">```python\n",
    "my_dictionary = {'name': 'Lucy', 'age': \"Hey, don't be so cheeky\", 'shoe size': 5}\n",
    "my_dictionary\n",
    "```"
   ]
  },
  {
   "cell_type": "code",
   "execution_count": null,
   "metadata": {
    "collapsed": false
   },
   "outputs": [],
   "source": []
  },
  {
   "cell_type": "markdown",
   "metadata": {},
   "source": [
    "You can access dictionary values using the dictionary key:\n",
    "\n",
    ">```python\n",
    "my_dictionary['name']\n",
    "```"
   ]
  },
  {
   "cell_type": "code",
   "execution_count": null,
   "metadata": {
    "collapsed": false
   },
   "outputs": [],
   "source": []
  },
  {
   "cell_type": "markdown",
   "metadata": {},
   "source": [
    "If you try to access a dictionary item with a key which is not part of the dictionary you get an error:\n",
    "\n",
    ">```python\n",
    "my_dictionary['favourite pet'] # this will return an error\n",
    "```"
   ]
  },
  {
   "cell_type": "code",
   "execution_count": null,
   "metadata": {
    "collapsed": true
   },
   "outputs": [],
   "source": []
  },
  {
   "cell_type": "markdown",
   "metadata": {},
   "source": [
    "We can update a dictionary by adding a new entry or key-value pair\n",
    "\n",
    ">```python\n",
    "my_dictionary['favourite pet'] = \"Gorilla\"\n",
    "my_dictionary\n",
    "```\n"
   ]
  },
  {
   "cell_type": "code",
   "execution_count": null,
   "metadata": {
    "collapsed": true
   },
   "outputs": [],
   "source": []
  },
  {
   "cell_type": "markdown",
   "metadata": {},
   "source": [
    "We can also modify an existing entry\n",
    "\n",
    ">```python\n",
    "my_dictionary['age'] = \"I'm still not telling you\"\n",
    "my_dictionary\n",
    "```"
   ]
  },
  {
   "cell_type": "code",
   "execution_count": null,
   "metadata": {
    "collapsed": true
   },
   "outputs": [],
   "source": []
  },
  {
   "cell_type": "markdown",
   "metadata": {},
   "source": [
    "Dictionary values can be any type of python object:\n",
    "\n",
    ">```python\n",
    "my_dictionary['favourite foods'] = ['worms','snails','goo'] # The dictionary value is a python list\n",
    "my_dictionary\n",
    "```"
   ]
  },
  {
   "cell_type": "code",
   "execution_count": null,
   "metadata": {
    "collapsed": false
   },
   "outputs": [],
   "source": []
  },
  {
   "cell_type": "markdown",
   "metadata": {},
   "source": [
    "Dictionary keys need to be an immutable object : string, numbers or tuples \n",
    "\n",
    "*Note: an immutable object is one that cannot be changed after it is created*\n",
    "\n",
    ">```python\n",
    "my_dictionary[['test','key']] = \"does it work?\" # A list is mutable, this will give an error\n",
    "```"
   ]
  },
  {
   "cell_type": "code",
   "execution_count": null,
   "metadata": {
    "collapsed": true
   },
   "outputs": [],
   "source": []
  },
  {
   "cell_type": "markdown",
   "metadata": {},
   "source": [
    ">```python\n",
    "my_dictionary[5.25] = \"five point two five\" # A number is immutable, this should work\n",
    "my_dictionary ```"
   ]
  },
  {
   "cell_type": "code",
   "execution_count": null,
   "metadata": {
    "collapsed": true
   },
   "outputs": [],
   "source": []
  },
  {
   "cell_type": "markdown",
   "metadata": {},
   "source": [
    "<div class=\"alert alert-success\">\n",
    "Create a dictionary with the following information about you: name, favourite element and favourite number\n",
    "</div>"
   ]
  },
  {
   "cell_type": "code",
   "execution_count": null,
   "metadata": {
    "collapsed": true
   },
   "outputs": [],
   "source": []
  },
  {
   "cell_type": "markdown",
   "metadata": {},
   "source": [
    "## Defining functions<a id=\"functions\"></a>\n",
    "\n",
    "You can create your own python commands by defining a function.\n",
    "\n",
    "Function blocks begin with the keyword `def` followed by a function name and parentheses `()` and a colon `:`\n",
    "\n",
    ">```python\n",
    "def my_function(): # This will give an error\n",
    "```\n"
   ]
  },
  {
   "cell_type": "code",
   "execution_count": null,
   "metadata": {
    "collapsed": false
   },
   "outputs": [],
   "source": []
  },
  {
   "cell_type": "markdown",
   "metadata": {},
   "source": [
    "The code block is indented by 4 spaces\n",
    ">```python\n",
    "def my_function(): \n",
    "    print (\"yeh, my function works!\")   \n",
    "```\n"
   ]
  },
  {
   "cell_type": "code",
   "execution_count": null,
   "metadata": {
    "collapsed": true
   },
   "outputs": [],
   "source": []
  },
  {
   "cell_type": "markdown",
   "metadata": {},
   "source": [
    "To execute the function you must call it (including parentheses):\n",
    "    \n",
    ">```python\n",
    "my_function()\n",
    "```"
   ]
  },
  {
   "cell_type": "code",
   "execution_count": null,
   "metadata": {
    "collapsed": true
   },
   "outputs": [],
   "source": []
  },
  {
   "cell_type": "markdown",
   "metadata": {},
   "source": [
    "You can create a function with arguments\n",
    ">```python\n",
    "def print_details(name,age): # This function contains two arguments: name and age\n",
    "    print (\"Your name is {0} and your age is {1}\".format(name,age))\n",
    "```"
   ]
  },
  {
   "cell_type": "code",
   "execution_count": null,
   "metadata": {
    "collapsed": true
   },
   "outputs": [],
   "source": []
  },
  {
   "cell_type": "markdown",
   "metadata": {},
   "source": [
    "Remember to call it with the argument\n",
    ">```python\n",
    "print_details() # this won't work because there are no arguments\n",
    "```"
   ]
  },
  {
   "cell_type": "code",
   "execution_count": null,
   "metadata": {
    "collapsed": true
   },
   "outputs": [],
   "source": []
  },
  {
   "cell_type": "markdown",
   "metadata": {},
   "source": [
    ">```python\n",
    "print_details(\"Snow White\",17)\n",
    "```"
   ]
  },
  {
   "cell_type": "code",
   "execution_count": null,
   "metadata": {
    "collapsed": false
   },
   "outputs": [],
   "source": []
  },
  {
   "cell_type": "markdown",
   "metadata": {},
   "source": [
    "The `return` statement exits a function, optionally passing back an expression to the caller\n",
    "\n",
    ">```python\n",
    "def square_number(number): # This function contains one argument: number\n",
    "    y = number*number\n",
    "    return y\n",
    "```"
   ]
  },
  {
   "cell_type": "code",
   "execution_count": null,
   "metadata": {
    "collapsed": true
   },
   "outputs": [],
   "source": []
  },
  {
   "cell_type": "markdown",
   "metadata": {},
   "source": [
    "Call the function and use the returned value\n",
    "\n",
    ">```python\n",
    "large_square_number = square_number(456)\n",
    "larger_cube_number = square_number(large_square_number)\n",
    "larger_cube_number\n",
    "```"
   ]
  },
  {
   "cell_type": "code",
   "execution_count": null,
   "metadata": {
    "collapsed": true
   },
   "outputs": [],
   "source": []
  },
  {
   "cell_type": "markdown",
   "metadata": {},
   "source": [
    "<div class=\"alert alert-success\">\n",
    "Write a function which returns the hypotenuse of a right angled triangle when given the length of the opposite and adjacent edge.<br/><br/>\n",
    "\n",
    "Call the function to find the hypotenuse of a triangle with opposite edge = 5cm and adjacent edge = 7cm.\n",
    "</div>"
   ]
  },
  {
   "cell_type": "code",
   "execution_count": null,
   "metadata": {
    "collapsed": true
   },
   "outputs": [],
   "source": []
  },
  {
   "cell_type": "markdown",
   "metadata": {
    "collapsed": false
   },
   "source": [
    "## Control flow<a id=\"control_flow\"></a>\n",
    "Control flow statements allow the code to do different things depending upon the situation.\n",
    "\n",
    "### The `if` statement<a id=\"if_statement\"></a>\n",
    "The `if` statement is used to check a condition; when the condition is met the `if` code block runs. \n",
    ">```python\n",
    "number = 42\n",
    "guess = int(input('Enter an integer : '))\n",
    "if guess == number: # a common mistake would be to use `if guess = number` here\n",
    "    print (\"wow, you're a mind reader!\")\n",
    "```\n"
   ]
  },
  {
   "cell_type": "code",
   "execution_count": null,
   "metadata": {
    "collapsed": false
   },
   "outputs": [],
   "source": []
  },
  {
   "cell_type": "markdown",
   "metadata": {},
   "source": [
    "\n"
   ]
  },
  {
   "cell_type": "markdown",
   "metadata": {},
   "source": [
    "We can add an `else` statement. When the `if` condition is not met the `else` code block runs.\n",
    "\n",
    ">```python\n",
    "number = 42\n",
    "guess = int(input('Enter an integer : '))\n",
    "if guess == number: \n",
    "    print (\"wow, you're a mind reader!\")\n",
    "else:\n",
    "    print (\"bad luck\")\n",
    "```\n",
    "    "
   ]
  },
  {
   "cell_type": "code",
   "execution_count": null,
   "metadata": {
    "collapsed": true
   },
   "outputs": [],
   "source": []
  },
  {
   "cell_type": "markdown",
   "metadata": {},
   "source": [
    "The `elif` statement combines an `else` and `if` statement into one:\n",
    "\n",
    ">>```python\n",
    "number = 42\n",
    "guess = int(input('Enter an integer : '))\n",
    "if guess == number: \n",
    "    print (\"wow, you're a mind reader!\")\n",
    "elif guess < number:\n",
    "    print (\"your guess is too small\")\n",
    "else:\n",
    "    print (\"your guess is too big\")\n",
    "```"
   ]
  },
  {
   "cell_type": "code",
   "execution_count": null,
   "metadata": {
    "collapsed": true
   },
   "outputs": [],
   "source": []
  },
  {
   "cell_type": "markdown",
   "metadata": {},
   "source": [
    "### The `for` statement<a id=\"for_statement\"></a>\n",
    "\n",
    "The `for..in` statement is another looping statement which iterates over a sequence of objects i.e. goes through each item in a sequence. \n",
    "\n",
    ">```python\n",
    "for i in range(1, 5):  \n",
    "    print(i)\n",
    "```\n"
   ]
  },
  {
   "cell_type": "code",
   "execution_count": null,
   "metadata": {
    "collapsed": false
   },
   "outputs": [],
   "source": [
    "\n"
   ]
  },
  {
   "cell_type": "markdown",
   "metadata": {},
   "source": [
    "We can use nested `for` loops:\n",
    "\n",
    ">```python\n",
    "for i in range(1, 5): \n",
    "    for j in ('a','b','c'):\n",
    "        print(i,j)\n",
    "```\n",
    "\n"
   ]
  },
  {
   "cell_type": "code",
   "execution_count": null,
   "metadata": {
    "collapsed": false
   },
   "outputs": [],
   "source": []
  },
  {
   "cell_type": "markdown",
   "metadata": {},
   "source": [
    "We can use the `enumerate()` function to add a counter to our loop:\n",
    "\n",
    ">```python\n",
    "for index,item in enumerate(('pizza','curry','burger')):\n",
    "    print (\"Choice number {0} is {1}\".format(index,item))\n",
    "```"
   ]
  },
  {
   "cell_type": "code",
   "execution_count": null,
   "metadata": {
    "collapsed": false
   },
   "outputs": [],
   "source": []
  },
  {
   "cell_type": "markdown",
   "metadata": {},
   "source": [
    "The `append` list method can be combined with a `for` loop:\n",
    "\n",
    ">```python\n",
    "square_numbers = [] # create an empty list\n",
    "for number in range(11):\n",
    "    number_squared = number*number\n",
    "    square_numbers.append(number_squared)\n",
    "square_numbers\n",
    "```"
   ]
  },
  {
   "cell_type": "code",
   "execution_count": null,
   "metadata": {
    "collapsed": false
   },
   "outputs": [],
   "source": []
  },
  {
   "cell_type": "markdown",
   "metadata": {},
   "source": [
    "## Common mistakes<a id=\"common_mistakes\"></a>\n",
    "\n",
    "You are about half way through the tutorial - congratulations! Let's take a breath and recap some of what has been mentioned previously with this short task.\n",
    "\n",
    "The code below contains several common mistakes\n",
    "\n",
    ">```python\n",
    "kitten property  = \"cute\" # variable names cannot include spaces or numbers\n",
    "string = \"I think kittens are {0}\".format(Kitten_property) # Python is case-sensitive\n",
    "print string # print statements need ()\n",
    "    kitten_food = [\"mice\",\"treats\",\"milk\"] # Python is sensitive to indentation level\n",
    "print (\"mmmm, I'd love a nice glass of {0}\".format(kitten_food[3])) # Indexing begins at 0\n",
    "```\n"
   ]
  },
  {
   "cell_type": "code",
   "execution_count": null,
   "metadata": {
    "collapsed": false
   },
   "outputs": [],
   "source": []
  },
  {
   "cell_type": "markdown",
   "metadata": {},
   "source": [
    "\n",
    "<div class=\"alert alert-success\"> Correct the code above so that the code runs.</div>"
   ]
  },
  {
   "cell_type": "markdown",
   "metadata": {},
   "source": [
    "<img src=\"./images/LPAGP-Zeno.png\">"
   ]
  },
  {
   "cell_type": "markdown",
   "metadata": {
    "collapsed": false
   },
   "source": [
    "# Reading in data with Pandas<a id=\"pandas\"></a>\n",
    "\n",
    "We are going to read in data using the [`Pandas`](http://pandas.pydata.org) module.\n",
    "\n",
    ">```python\n",
    "import pandas as pd # We load the pandas module so we can access all the useful functions\n",
    "```"
   ]
  },
  {
   "cell_type": "code",
   "execution_count": null,
   "metadata": {
    "collapsed": true
   },
   "outputs": [],
   "source": []
  },
  {
   "cell_type": "markdown",
   "metadata": {},
   "source": [
    "The tutorial files include a `data` directory that contains example data file. To read in the data use the `read_csv` function.\n",
    "\n",
    ">```python\n",
    "data = pd.read_csv( 'data/example.csv', header=1) # the data headings are located on row 1\n",
    "```"
   ]
  },
  {
   "cell_type": "code",
   "execution_count": null,
   "metadata": {
    "collapsed": true
   },
   "outputs": [],
   "source": []
  },
  {
   "cell_type": "markdown",
   "metadata": {},
   "source": [
    "The data has been saved as a [pandas dataframe object](http://pandas.pydata.org/pandas-docs/stable/generated/pandas.DataFrame.html).\n",
    "\n",
    ">```python\n",
    "data\n",
    "```\n"
   ]
  },
  {
   "cell_type": "code",
   "execution_count": null,
   "metadata": {
    "collapsed": false
   },
   "outputs": [],
   "source": []
  },
  {
   "cell_type": "markdown",
   "metadata": {},
   "source": [
    "We can access the values under the time heading using the following syntax \n",
    "\n",
    ">```python\n",
    "time = data['time']\n",
    "print (time)\n",
    "```"
   ]
  },
  {
   "cell_type": "code",
   "execution_count": null,
   "metadata": {
    "collapsed": true
   },
   "outputs": [],
   "source": []
  },
  {
   "cell_type": "markdown",
   "metadata": {
    "collapsed": true
   },
   "source": [
    "\n",
    ">```python\n",
    "temperature = data['temperature']\n",
    "print (temperature)\n",
    "```"
   ]
  },
  {
   "cell_type": "code",
   "execution_count": null,
   "metadata": {
    "collapsed": true
   },
   "outputs": [],
   "source": []
  },
  {
   "cell_type": "markdown",
   "metadata": {},
   "source": [
    "## Plotting data with matplotlib<a id='matplotlib'></a>\n",
    "\n",
    "To plot data we use another module: [`matplotlib`](http://matplotlib.org) This is a very powerful (and complicated) plotting library, that be used for quick analysis of experimental data, or to generate publication quality figures. It supports an enormous number of plot types. We are going to start with simple 2D $x,y$ plots.\n",
    "\n",
    ">```python\n",
    "import matplotlib.pyplot as plt\n",
    "%matplotlib inline # this 'magic' specifies that matplotlib figures should be shown directly in the notebook\n",
    "```"
   ]
  },
  {
   "cell_type": "code",
   "execution_count": null,
   "metadata": {
    "collapsed": true
   },
   "outputs": [],
   "source": [
    "\n"
   ]
  },
  {
   "cell_type": "markdown",
   "metadata": {},
   "source": [
    "We create a plot using `plt.plot()`. Remember, we have assigned `plt` as shorthand for `matplotlib.pyplot`.\n",
    ">```python\n",
    "plt.plot(time, temperature)\n",
    "plt.show()\n",
    "```"
   ]
  },
  {
   "cell_type": "code",
   "execution_count": null,
   "metadata": {
    "collapsed": true
   },
   "outputs": [],
   "source": []
  },
  {
   "cell_type": "markdown",
   "metadata": {},
   "source": [
    "Matplotlib can also be used to plot user-defined functions. This can be used for plotting $y$ as a function of $x$, e.g. $y=x^2$.\n",
    "\n",
    ">```python\n",
    "x = [0, 1, 2, 3, 4, 5] # remember that Python lists use square brackets\n",
    "y = [n**2 for n in x] # this is called list comprehension and it is a very useful python feature\n",
    "plt.plot( x, y)\n",
    "plt.show()\n",
    "```"
   ]
  },
  {
   "cell_type": "code",
   "execution_count": null,
   "metadata": {
    "collapsed": false
   },
   "outputs": [],
   "source": []
  },
  {
   "cell_type": "markdown",
   "metadata": {},
   "source": [
    "<div class=\"alert alert-success\">\n",
    "Plot $y=2x^3$ for $x=0$ to $5$.<br/>\n",
    "</div>"
   ]
  },
  {
   "cell_type": "code",
   "execution_count": null,
   "metadata": {
    "collapsed": true
   },
   "outputs": [],
   "source": []
  },
  {
   "cell_type": "markdown",
   "metadata": {},
   "source": [
    "The default plot shows a connected line. To plot individual points, we can add a third argument to `plt.plot()` that specifies the appearance for that data set:\n",
    "\n",
    ">```python\n",
    "plt.plot( x, y, \"o\" )\n",
    "plt.show()\n",
    "```"
   ]
  },
  {
   "cell_type": "code",
   "execution_count": null,
   "metadata": {
    "collapsed": true
   },
   "outputs": [],
   "source": []
  },
  {
   "cell_type": "markdown",
   "metadata": {
    "collapsed": true
   },
   "source": [
    "Adding axes labels and a title uses the `xlabel()`, `ylabel()`, and `title` commands. Save the figure using `savefig()`.\n",
    "\n",
    ">```python\n",
    "plt.plot( x, y, 'o' )\n",
    "plt.xlabel( 'x' )\n",
    "plt.ylabel( r'$2x^3$' ) # the r'$ $' notation formats a python raw string as latex\n",
    "plt.title( r'$y = x^2$' )\n",
    "plt.savefig('my_figure.pdf',bbox_inches='tight') # this must be in the same box as the \n",
    "# plotting commands. The 'bbox_inches='tight' keyword removes excess white space from the figure.\n",
    "plt.show()\n",
    "```"
   ]
  },
  {
   "cell_type": "code",
   "execution_count": null,
   "metadata": {
    "collapsed": true
   },
   "outputs": [],
   "source": []
  },
  {
   "cell_type": "markdown",
   "metadata": {},
   "source": [
    "## Fitting data with numpy<a id='numpy'></a>\n",
    "We can fit our data using the [`numpy`](www.numpy.org) module\n",
    "\n",
    ">```python\n",
    "import numpy as np\n",
    "```"
   ]
  },
  {
   "cell_type": "code",
   "execution_count": null,
   "metadata": {
    "collapsed": true
   },
   "outputs": [],
   "source": []
  },
  {
   "cell_type": "markdown",
   "metadata": {},
   "source": [
    "Let's use the time and temperature data from the previous section. \n",
    "\n",
    ">``` python\n",
    "plt.plot(time, temperature,'.')\n",
    "plt.show()\n",
    "```"
   ]
  },
  {
   "cell_type": "code",
   "execution_count": null,
   "metadata": {
    "collapsed": true
   },
   "outputs": [],
   "source": []
  },
  {
   "cell_type": "markdown",
   "metadata": {},
   "source": [
    "We will use the [`polyfit`](https://docs.scipy.org/doc/numpy/reference/generated/numpy.polyfit.html) least-squares function to fit a quadratic to our data.\n",
    "\n",
    "The polyfit function takes three arguments. The third argument is the degree of the fitting polynomial.\n",
    "\n",
    ">```python\n",
    "fit = np.polyfit(time,temperature,2) # We want to fit a polynomial degree 2 (quadratic)\n",
    "print (fit) # `fit` contains the coefficients of our polynomial, highest power first. \n",
    "```"
   ]
  },
  {
   "cell_type": "code",
   "execution_count": null,
   "metadata": {
    "collapsed": true
   },
   "outputs": [],
   "source": []
  },
  {
   "cell_type": "markdown",
   "metadata": {},
   "source": [
    "To plot our fit create 100 evenly spaced numbers from the start time to end time using the function linspace:\n",
    "\n",
    ">```python\n",
    "time_hundred_steps = np.linspace(time.min(),time.max(),100) # time.min() is the start time (minimum time), time.max is the end time (maximum time).\n",
    "```"
   ]
  },
  {
   "cell_type": "code",
   "execution_count": null,
   "metadata": {
    "collapsed": true
   },
   "outputs": [],
   "source": []
  },
  {
   "cell_type": "markdown",
   "metadata": {},
   "source": [
    "Now use the [`polyval`](https://docs.scipy.org/doc/numpy/reference/generated/numpy.polyval.html#numpy.polyval) function to calculate the temperature at these times using our calculate fit\n",
    "\n",
    ">```python\n",
    "temperature_fit = np.polyval(fit,time_hundred_steps)\n",
    "```"
   ]
  },
  {
   "cell_type": "code",
   "execution_count": null,
   "metadata": {
    "collapsed": true
   },
   "outputs": [],
   "source": []
  },
  {
   "cell_type": "markdown",
   "metadata": {},
   "source": [
    "Plot the original data and our fit on the same figure\n",
    "\n",
    ">```python\n",
    "plt.plot(time, temperature, 'o', time_hundred_steps, temperature_fit,'-')\n",
    "plt.savefig(\"time_temperature.pdf\") # save the plot\n",
    "plt.show()\n",
    "```"
   ]
  },
  {
   "cell_type": "code",
   "execution_count": null,
   "metadata": {
    "collapsed": true
   },
   "outputs": [],
   "source": []
  },
  {
   "cell_type": "markdown",
   "metadata": {},
   "source": [
    "# Putting it all together: Plotting the deformation potential\n",
    "<a id='together'></a>\n",
    "\n",
    "<div class=\"alert alert-success\"> \n",
    "We are now going to put everything you have learnt so far together. You are going to read in, plot and fit a polynomial to temperature powder X-ray diffraction data published [`here`](http://pubs.rsc.org/en/content/articlehtml/2013/ta/c3ta10518k). <br/><br/>\n",
    "\n",
    "**Step 1)** Create a new notebook called \"[Your name here]-thermalexpansion\". <br/><br/>\n",
    "\n",
    "**Step 2)** Import the matplotlib, pandas and numpy modules. <br/><br/>\n",
    "\n",
    "**Step 3)** Read in the datafile \"data/thermalexpansion.csv\" and assign values to the variables 'temperature' and 'volume'. <br/><br/>\n",
    "\n",
    "**Step 4)** Fit a polynomial to the data using numpy (you will have to determine the suitable order of the polynomial). <br/><br/>\n",
    "\n",
    "**Step 5)**  Plot the data and the polynomial fit using matplotlib. Label the axes and give your plot a title.  <br/><br/>\n",
    "\n",
    "**Step 6)** Save the figure as \"[Your name here]-thermalexpansion.pdf\" and send the it to <span style='font-family:monospace'>lucywhalley@gmail.com</span>. <br/><br/>\n",
    "*Hint: It may help to split this work across several cells in your new notebook; errors will be easier to debug.*\n",
    "</div> \n",
    "\n"
   ]
  },
  {
   "cell_type": "markdown",
   "metadata": {},
   "source": [
    "##  \\_\\_\\_\\_\\_\\_\\_\\_\\_\\_\\_\\_\\_\\_\\_\\_\\_\\_\\_\\_\\_Congratulations! You've finished!\\_\\_\\_\\_\\_\\_\\_\\_\\_\\_\\_\\_\\_\\_\\_"
   ]
  },
  {
   "cell_type": "markdown",
   "metadata": {},
   "source": [
    "<img src=\"./images/6_chester_wink01.gif\"> "
   ]
  },
  {
   "cell_type": "markdown",
   "metadata": {},
   "source": [
    "## Extension work\n",
    "<a id='extension'></a>\n",
    "\n",
    "Pick an extension tasks (they can be done in any order):\n",
    "-  Improve the appearance of your plots. There's lots online but you could start with [`linestyles`](http://matplotlib.org/api/lines_api.html#matplotlib.lines.Line2D.set_linestyle) or [`colours`](http://matplotlib.org/mpl_examples/color/named_colors.hires.png) \n",
    "- Use the [`Pandas`](http://pandas.pydata.org) library to remove data outliers and improve the fit\n"
   ]
  },
  {
   "cell_type": "markdown",
   "metadata": {},
   "source": [
    "## Resources<a id='resources'></a>\n",
    "\n",
    "### Python practice and tutorial websites\n",
    "[Practice Python](http://www.practicepython.org/)\n",
    "\n",
    "[Introduction to scientific computing with Python](http://nbviewer.jupyter.org/github/jrjohansson/scientific-python-lectures/blob/master/Lecture-0-Scientific-Computing-with-Python.ipynb) (in jupyter notebook format)\n",
    "\n",
    "[A Byte of Python](https://www.gitbook.com/book/swaroopch/byte-of-python/details) (in GitBook format)\n",
    "\n",
    "[Simple Programming Problems](https://adriann.github.io/programming_problems.html)\n",
    "\n",
    "[Check iO game](https://py.checkio.org) (fun, addictive, educational)\n",
    "\n",
    "### Python documentation and resources\n",
    "[Python 3 official documentation](http://docs.python.org/3/) \n",
    "\n",
    "[Python Crash Course cheat sheets](https://ehmatthes.github.io/pcc/cheatsheets/README.html)\n",
    "\n",
    "### General background to scientific computing\n",
    "[Good Enough Practices for Scientific Computing](https://swcarpentry.github.io/good-enough-practices-in-scientific-computing/)"
   ]
  }
 ],
 "metadata": {
  "kernelspec": {
   "display_name": "Python 3",
   "language": "python",
   "name": "python3"
  },
  "language_info": {
   "codemirror_mode": {
    "name": "ipython",
    "version": 3
   },
   "file_extension": ".py",
   "mimetype": "text/x-python",
   "name": "python",
   "nbconvert_exporter": "python",
   "pygments_lexer": "ipython3",
   "version": "3.5.2"
  }
 },
 "nbformat": 4,
 "nbformat_minor": 0
}
